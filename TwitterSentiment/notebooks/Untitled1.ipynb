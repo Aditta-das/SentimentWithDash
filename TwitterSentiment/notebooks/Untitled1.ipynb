{
 "cells": [
  {
   "cell_type": "code",
   "execution_count": 1,
   "metadata": {},
   "outputs": [
    {
     "data": {
      "text/html": [
       "<div>\n",
       "<style scoped>\n",
       "    .dataframe tbody tr th:only-of-type {\n",
       "        vertical-align: middle;\n",
       "    }\n",
       "\n",
       "    .dataframe tbody tr th {\n",
       "        vertical-align: top;\n",
       "    }\n",
       "\n",
       "    .dataframe thead th {\n",
       "        text-align: right;\n",
       "    }\n",
       "</style>\n",
       "<table border=\"1\" class=\"dataframe\">\n",
       "  <thead>\n",
       "    <tr style=\"text-align: right;\">\n",
       "      <th></th>\n",
       "      <th>name</th>\n",
       "      <th>pop</th>\n",
       "      <th>lat</th>\n",
       "      <th>lon</th>\n",
       "    </tr>\n",
       "  </thead>\n",
       "  <tbody>\n",
       "    <tr>\n",
       "      <th>0</th>\n",
       "      <td>New York</td>\n",
       "      <td>8287238</td>\n",
       "      <td>40.730599</td>\n",
       "      <td>-73.986581</td>\n",
       "    </tr>\n",
       "    <tr>\n",
       "      <th>1</th>\n",
       "      <td>Los Angeles</td>\n",
       "      <td>3826423</td>\n",
       "      <td>34.053717</td>\n",
       "      <td>-118.242727</td>\n",
       "    </tr>\n",
       "    <tr>\n",
       "      <th>2</th>\n",
       "      <td>Chicago</td>\n",
       "      <td>2705627</td>\n",
       "      <td>41.875555</td>\n",
       "      <td>-87.624421</td>\n",
       "    </tr>\n",
       "    <tr>\n",
       "      <th>3</th>\n",
       "      <td>Houston</td>\n",
       "      <td>2129784</td>\n",
       "      <td>29.758938</td>\n",
       "      <td>-95.367697</td>\n",
       "    </tr>\n",
       "    <tr>\n",
       "      <th>4</th>\n",
       "      <td>Philadelphia</td>\n",
       "      <td>1539313</td>\n",
       "      <td>39.952335</td>\n",
       "      <td>-75.163789</td>\n",
       "    </tr>\n",
       "  </tbody>\n",
       "</table>\n",
       "</div>"
      ],
      "text/plain": [
       "            name      pop        lat         lon\n",
       "0      New York   8287238  40.730599  -73.986581\n",
       "1   Los Angeles   3826423  34.053717 -118.242727\n",
       "2       Chicago   2705627  41.875555  -87.624421\n",
       "3       Houston   2129784  29.758938  -95.367697\n",
       "4  Philadelphia   1539313  39.952335  -75.163789"
      ]
     },
     "execution_count": 1,
     "metadata": {},
     "output_type": "execute_result"
    }
   ],
   "source": [
    "import plotly.graph_objects as go\n",
    "import pandas as pd\n",
    "df = pd.read_csv('https://raw.githubusercontent.com/plotly/datasets/master/2014_us_cities.csv')\n",
    "df.head()"
   ]
  },
  {
   "cell_type": "code",
   "execution_count": 7,
   "metadata": {},
   "outputs": [
    {
     "data": {
      "text/plain": [
       "array(['New York ', 'Los Angeles ', 'Chicago ', ..., 'Spanish Fort ',\n",
       "       'Plaquemine ', 'Milton-Freewater '], dtype=object)"
      ]
     },
     "execution_count": 7,
     "metadata": {},
     "output_type": "execute_result"
    }
   ],
   "source": [
    "df[\"name\"].unique()"
   ]
  },
  {
   "cell_type": "code",
   "execution_count": null,
   "metadata": {},
   "outputs": [],
   "source": []
  },
  {
   "cell_type": "code",
   "execution_count": 2,
   "metadata": {},
   "outputs": [],
   "source": [
    "df['text'] = df['name'] + '<br>Population ' + (df['pop']/1e6).astype(str)+' million'"
   ]
  },
  {
   "cell_type": "code",
   "execution_count": 10,
   "metadata": {},
   "outputs": [
    {
     "data": {
      "application/vnd.plotly.v1+json": {
       "config": {
        "plotlyServerURL": "https://plot.ly"
       },
       "data": [
        {
         "lat": [
          40.7305991,
          34.053717
         ],
         "locationmode": "USA-states",
         "lon": [
          -73.9865812,
          -118.2427266
         ],
         "marker": {
          "color": "royalblue",
          "line": {
           "color": "rgb(40,40,40)",
           "width": 0.5
          },
          "size": [
           1657.4476,
           765.2846
          ],
          "sizemode": "area"
         },
         "name": "0 - 2",
         "text": [
          "New York <br>Population 8.287238 million",
          "Los Angeles <br>Population 3.826423 million"
         ],
         "type": "scattergeo"
        },
        {
         "lat": [
          29.7589382,
          39.952335,
          33.4467681,
          29.4246002,
          32.7174209,
          32.7761963,
          37.3438502
         ],
         "locationmode": "USA-states",
         "lon": [
          -95.3676974,
          -75.163789,
          -112.0756724,
          -98.4951405,
          -117.1627714,
          -96.7968994,
          -121.8831349
         ],
         "marker": {
          "color": "crimson",
          "line": {
           "color": "rgb(40,40,40)",
           "width": 0.5
          },
          "size": [
           425.9568,
           307.8626,
           293.0228,
           271.8348,
           264.2032,
           243.8798,
           194.299
          ],
          "sizemode": "area"
         },
         "name": "3 - 10",
         "text": [
          "Houston <br>Population 2.129784 million",
          "Philadelphia <br>Population 1.539313 million",
          "Phoenix <br>Population 1.465114 million",
          "San Antonio <br>Population 1.359174 million",
          "San Diego <br>Population 1.321016 million",
          "Dallas <br>Population 1.219399 million",
          "San Jose <br>Population 0.971495 million"
         ],
         "type": "scattergeo"
        },
        {
         "lat": [
          30.3321838,
          39.7683331,
          37.7792768,
          39.9622601,
          32.753177,
          35.2270869,
          42.3486635,
          31.8111305,
          35.1490215
         ],
         "locationmode": "USA-states",
         "lon": [
          -81.655651,
          -86.1583502,
          -122.4192704,
          -83.0007065,
          -97.3327459,
          -80.8431268,
          -83.0567375,
          -106.5013493,
          -90.0516285
         ],
         "marker": {
          "color": "lightseagreen",
          "line": {
           "color": "rgb(40,40,40)",
           "width": 0.5
          },
          "size": [
           165.9086,
           165.4692,
           163.2478,
           159.854,
           152.379,
           151.2408,
           140.4298,
           133.1006,
           131.195
          ],
          "sizemode": "area"
         },
         "name": "11 - 20",
         "text": [
          "Jacksonville <br>Population 0.829543 million",
          "Indianapolis  <br>Population 0.827346 million",
          "San Francisco <br>Population 0.816239 million",
          "Columbus <br>Population 0.79927 million",
          "Fort Worth <br>Population 0.761895 million",
          "Charlotte <br>Population 0.756204 million",
          "Detroit <br>Population 0.702149 million",
          "El Paso <br>Population 0.665503 million",
          "Memphis <br>Population 0.655975 million"
         ],
         "type": "scattergeo"
        },
        {
         "lat": [
          47.6038321,
          39.2908608,
          38.8949549,
          39.7391536,
          36.187025,
          38.209237,
          43.0349931,
          45.5202471,
          35.4729886,
          36.1662859,
          35.0841034,
          32.2217422,
          36.7394421,
          38.5815719,
          33.7774658,
          39.0844687,
          33.436188,
          36.7953025,
          33.7490987,
          41.2587317,
          38.8339578,
          35.7804015,
          25.7742658,
          37.8044557,
          36.1556805,
          41.5051613,
          44.9772995,
          37.6922361,
          32.7355816
         ],
         "locationmode": "USA-states",
         "lon": [
          -122.3300624,
          -76.6108073,
          -77.0366456,
          -104.9847034,
          -86.78086153,
          -85.7038502,
          -87.922497,
          -122.6741949,
          -97.5170536,
          -115.149225,
          -106.6509851,
          -110.9264759,
          -119.7848307,
          -121.4943996,
          -118.1884871,
          -94.5630298,
          -111.5860661,
          -76.05092502,
          -84.3901849,
          -95.9378732,
          -104.8253485,
          -78.6390779,
          -80.1936589,
          -122.2713563,
          -95.9929113,
          -81.6934446,
          -93.2654692,
          -97.3375448,
          -97.1071186
         ],
         "marker": {
          "color": "orange",
          "line": {
           "color": "rgb(40,40,40)",
           "width": 0.5
          },
          "size": [
           124.435,
           124.1778,
           124.0854,
           123.878,
           122.4486,
           120.3418,
           119.487,
           118.7718,
           117.9792,
           117.6514,
           110.3626,
           104.8384,
           100.2714,
           94.325,
           93.165,
           92.407,
           88.9908,
           88.5968,
           86.427,
           85.9208,
           85.4832,
           82.827,
           82.4876,
           79.3298,
           78.5502,
           78.501,
           77.6506,
           76.7392,
           74.1816
          ],
          "sizemode": "area"
         },
         "name": "21 - 50",
         "text": [
          "Seattle <br>Population 0.622175 million",
          "Baltimore <br>Population 0.620889 million",
          "Washington <br>Population 0.620427 million",
          "Denver <br>Population 0.61939 million",
          "Nashville-Davidson   <br>Population 0.612243 million",
          "Louisville/Jefferson County   <br>Population 0.601709 million",
          "Milwaukee <br>Population 0.597435 million",
          "Portland <br>Population 0.593859 million",
          "Oklahoma City <br>Population 0.589896 million",
          "Las Vegas <br>Population 0.588257 million",
          "Albuquerque <br>Population 0.551813 million",
          "Tucson <br>Population 0.524192 million",
          "Fresno <br>Population 0.501357 million",
          "Sacramento <br>Population 0.471625 million",
          "Long Beach <br>Population 0.465825 million",
          "Kansas City <br>Population 0.462035 million",
          "Mesa <br>Population 0.444954 million",
          "Virginia Beach <br>Population 0.442984 million",
          "Atlanta <br>Population 0.432135 million",
          "Omaha <br>Population 0.429604 million",
          "Colorado Springs <br>Population 0.427416 million",
          "Raleigh <br>Population 0.414135 million",
          "Miami <br>Population 0.412438 million",
          "Oakland <br>Population 0.396649 million",
          "Tulsa <br>Population 0.392751 million",
          "Cleveland <br>Population 0.392505 million",
          "Minneapolis <br>Population 0.388253 million",
          "Wichita <br>Population 0.383696 million",
          "Arlington <br>Population 0.370908 million"
         ],
         "type": "scattergeo"
        },
        {
         "lat": [
          29.9499323,
          35.3738712,
          27.9477595,
          33.8347516,
          33.7499595,
          38.6272733,
          33.9533546,
          27.8002542,
          40.4416941,
          38.0464066,
          39.1014537,
          37.9577016,
          44.9504037,
          41.6786754,
          40.735657,
          36.0726355,
          33.0136764,
          40.8000554,
          42.8864468,
          40.8156124,
          41.0799898,
          40.7281575,
          32.6400541,
          27.7703796,
          28.5421175,
          27.5060991,
          33.3067132,
          43.074761,
          33.5778631,
          36.0998167,
          25.8670435,
          32.912624,
          30.4507462,
          34.1423455,
          36.8190369,
          33.6856969,
          32.8629195,
          33.5091215,
          36.2008371,
          37.5482697,
          33.294207,
          34.1083449,
          43.1854754,
          43.5988375,
          47.6588603,
          32.3669656,
          37.5385087,
          41.5910641,
          37.6390972,
          32.4828485,
          36.111508,
          34.1975048,
          47.2495798,
          34.0922335,
          41.0830643,
          40.9312099,
          33.937517,
          34.7464809,
          39.9622601,
          30.6943566,
          35.2072185,
          33.6781238,
          34.1423455,
          42.9632405,
          40.7670126,
          30.4380832,
          34.577718,
          35.9603948,
          37.016827,
          32.7459645,
          25.9140256,
          41.8239891,
          34.3916641,
          38.9822282,
          32.2990384,
          33.7746292,
          35.0456297,
          33.1958696,
          26.1223084,
          34.1063989,
          27.2939333,
          33.4144139,
          39.7989763,
          40.03813,
          26.6069232,
          26.02322025,
          44.0505054,
          43.5499749,
          40.6938609,
          44.9391565,
          38.4087993,
          32.8406946,
          40.7469593,
          34.5793131,
          39.7989763,
          36.6777078,
          42.2713945,
          34.1476452,
          34.0552886,
          41.525031,
          37.6688205,
          33.8358492,
          39.0844687,
          33.1216751,
          41.1670412,
          40.5508527,
          40.9167654,
          43.0481221,
          39.6246085,
          37.3688301,
          34.1028268,
          41.7729107,
          39.7589478,
          35.7882973,
          32.7666103,
          32.0835407,
          33.7500378,
          34.1476452,
          33.1976496,
          33.8708215,
          38.2967791,
          40.8442828,
          26.154573,
          40.6916132,
          41.3082138,
          47.6144219,
          42.5803122,
          38.8843867,
          39.0490111,
          41.9758872,
          34.1705609,
          31.549333,
          40.6639916,
          36.3302284,
          29.651907,
          41.7634935,
          25.97591145,
          34.2694474,
          41.0534302,
          43.207106,
          26.26485615,
          35.2351765,
          32.7876012,
          33.5801103,
          38.72338,
          30.2240897,
          39.95782075,
          37.9747645,
          33.1728435,
          33.6292271,
          37.8882168,
          32.4464534,
          34.5361067,
          37.3541132,
          30.0860459,
          39.7989763,
          38.1040864,
          37.2242358,
          40.6938609,
          42.2681569,
          40.2338438,
          34.0751571,
          42.7337712,
          37.8708393,
          35.2225717,
          43.6155825,
          33.9400143,
          35.9155165,
          33.6633386,
          33.9616801,
          25.94207545,
          41.5581525,
          42.0372487,
          27.9658533,
          39.7459468,
          43.1854754,
          34.302548,
          33.1580933,
          46.8772292,
          39.8027644,
          42.6334247,
          45.5067406,
          38.2544472,
          34.0686208,
          40.6096698,
          38.2493581,
          41.1175966,
          35.9556924,
          45.7874957,
          37.5385087,
          33.560832,
          44.5299412,
          33.9137085,
          34.1816482,
          30.5725805,
          38.0049214,
          47.9673056,
          28.0331886,
          33.4946353,
          37.688432,
          39.5680644,
          26.2378597,
          32.9481789,
          42.129461,
          26.7153425,
          41.6833813,
          40.0149856,
          32.7947731,
          41.5236436,
          36.0525993,
          32.3140354,
          32.8546197,
          42.5846773,
          28.0394654,
          37.496904,
          32.3512601,
          34.6086854,
          42.6511674,
          33.046233,
          34.405472,
          42.3222599,
          33.9242688,
          37.270973,
          33.9798472,
          42.36837,
          30.6262616,
          33.2000368,
          33.9463456,
          41.6362152,
          31.4319925,
          40.4233142,
          26.075729,
          33.5965685,
          32.665167,
          42.0834335,
          45.5228939,
          47.4799078,
          38.3760441,
          29.5639758,
          46.601557,
          39.9356016,
          33.8322043,
          38.9108408,
          33.2668398,
          34.4263886,
          45.4871723,
          33.3942655,
          39.5348431,
          42.466763,
          34.0195598
         ],
         "locationmode": "USA-states",
         "lon": [
          -90.0701156,
          -119.0194639,
          -82.458444,
          -117.911732,
          -117.8732826,
          -90.1978889,
          -117.3961623,
          -97.3955744,
          -79.9900861,
          -84.4970393,
          -84.5124602,
          -121.2907796,
          -93.1015026,
          -83.5127283,
          -74.1723667,
          -79.7919754,
          -96.6925096,
          -96.6674005,
          -78.8783689,
          -90.9104547,
          -85.1386015,
          -74.0776417,
          -117.0841955,
          -82.6695085,
          -81.3790462,
          -99.5088979,
          -111.8408489,
          -89.3837613,
          -101.8551665,
          -80.2441445,
          -80.29146312,
          -96.6388833,
          -91.154551,
          -118.2483671,
          -76.2749399,
          -117.8259819,
          -96.97917017,
          -111.8992365,
          -115.1120958,
          -121.9885719,
          -111.7379465,
          -117.2897652,
          -77.61068605,
          -116.243255,
          -117.4247134,
          -86.3006485,
          -77.43428,
          -93.6037149,
          -120.9968782,
          -93.82848316,
          -94.20986672,
          -119.1770516,
          -122.4398746,
          -117.435048,
          -81.5184854,
          -73.8987469,
          -117.2305944,
          -92.2895948,
          -83.0007065,
          -88.0430541,
          -101.8338246,
          -118.0000112,
          -118.2483671,
          -85.6678639,
          -111.8904308,
          -84.2809332,
          -86.83583561,
          -83.9210261,
          -76.4505196,
          -96.9977846,
          -97.4890856,
          -71.4128343,
          -118.542586,
          -94.6707917,
          -90.1847691,
          -117.9463717,
          -85.3096801,
          -117.3794834,
          -80.1433786,
          -117.5931084,
          -80.3503283,
          -111.9094474,
          -89.6443688,
          -76.3056686,
          -81.9802626,
          -80.34123892,
          -123.0950506,
          -96.700327,
          -89.5891008,
          -123.033121,
          -121.3716178,
          -83.6324022,
          -73.8601456,
          -118.1171108,
          -89.6443688,
          -121.6560114,
          -89.093966,
          -118.1444779,
          -117.7522793,
          -88.0817252,
          -122.0807964,
          -118.3406288,
          -94.5630298,
          -117.0814849,
          -73.2048348,
          -105.0668085,
          -74.171811,
          -76.1474244,
          -105.0842039,
          -122.0363496,
          -118.3299899,
          -88.147867,
          -84.1916069,
          -78.7811925,
          -96.599472,
          -81.0998342,
          -117.8704931,
          -118.1444779,
          -96.6154471,
          -117.9294165,
          -85.7602087,
          -90.6168408,
          -98.26072076,
          -112.0010501,
          -72.9250518,
          -122.1923372,
          -83.0302033,
          -94.8161127,
          -95.6775557,
          -91.6704053,
          -118.8375937,
          -97.1466695,
          -74.2107006,
          -119.2920585,
          -82.3247976,
          -72.6830523,
          -80.33472113,
          -118.781482,
          -73.5387341,
          -71.5370216,
          -80.26534189,
          -75.6284903,
          -79.9402728,
          -85.0766113,
          -121.1858782,
          -92.0198427,
          -104.9669887,
          -87.5558483,
          -97.05898636,
          -112.3680189,
          -95.3170208,
          -99.7333478,
          -117.2911565,
          -121.9551744,
          -94.1018461,
          -89.6443688,
          -122.2566367,
          -95.7083131,
          -89.5891008,
          -83.7312291,
          -111.6585337,
          -118.036849,
          -84.5553805,
          -122.2728639,
          -97.4394816,
          -84.2472117,
          -118.1325688,
          -86.44469333,
          -117.903317,
          -118.3531311,
          -80.23975271,
          -73.0514966,
          -88.2811895,
          -82.8001026,
          -75.546589,
          -77.61068605,
          -119.2072845,
          -117.3505939,
          -96.789821,
          -105.0874842,
          -71.3161718,
          -122.4367058,
          -104.609141,
          -117.9389526,
          -111.9391031,
          -122.0399663,
          -73.4078968,
          -80.0053176,
          -108.49607,
          -77.43428,
          -117.2106564,
          -88.0248317,
          -98.4933873,
          -118.3258554,
          -97.64840733,
          -121.805789,
          -122.2013998,
          -80.6429695,
          -117.1473661,
          -122.4606865,
          -104.9778307,
          -80.1247667,
          -96.7297206,
          -80.085239,
          -80.0533746,
          -86.2500066,
          -105.2705456,
          -116.9625269,
          -90.5776368,
          -95.7908195,
          -106.7798078,
          -79.9748103,
          -87.8212263,
          -81.9498042,
          -122.3330573,
          -95.3010624,
          -98.3903305,
          -73.754968,
          -96.994174,
          -103.2050709,
          -83.1763145,
          -84.3785379,
          -79.9414313,
          -117.4515754,
          -83.3527097,
          -96.3347249,
          -117.2425355,
          -118.200981,
          -70.934205,
          -100.4545797,
          -104.7091322,
          -80.28410878,
          -117.659405,
          -114.4759049,
          -71.0183787,
          -122.989827,
          -122.2034496,
          -121.9954703,
          -95.2864299,
          -120.5108421,
          -91.4098727,
          -118.2517547,
          -94.3821724,
          -87.4862182,
          -117.3008784,
          -122.8037804,
          -104.5230242,
          -119.7527683,
          -70.9494939,
          -118.4869739
         ],
         "marker": {
          "color": "lightgrey",
          "line": {
           "color": "rgb(40,40,40)",
           "width": 0.5
          },
          "size": [
           72.1754,
           70.7066,
           69.3868,
           68.166,
           65.7712,
           63.8376,
           62.005,
           61.6138,
           61.2198,
           60.2426,
           59.2228,
           59.0772,
           57.7768,
           57.1098,
           55.5708,
           54.5042,
           53.524,
           52.4778,
           52.105,
           51.9916,
           50.9214,
           50.6234,
           49.7368,
           49.2084,
           48.7574,
           48.2376,
           47.9954,
           47.3846,
           46.7172,
           46.3746,
           46.2704,
           46.041,
           45.7878,
           45.729,
           45.0666,
           44.1056,
           44.0024,
           43.9682,
           43.7942,
           43.526,
           42.8114,
           42.4122,
           42.1782,
           41.856,
           41.805,
           41.5026,
           41.3954,
           41.1816,
           40.8624,
           40.375,
           40.297,
           40.016,
           39.9764,
           39.9758,
           39.7818,
           39.5544,
           39.394,
           39.0558,
           39.0544,
           38.9612,
           38.7814,
           38.6732,
           38.6428,
           37.8108,
           37.6316,
           36.6884,
           36.4438,
           36.1212,
           36.0712,
           35.7622,
           35.7102,
           35.675,
           35.5686,
           35.2136,
           35.0896,
           34.6562,
           34.0972,
           33.959,
           33.809,
           33.642,
           33.4224,
           32.746,
           32.0816,
           31.6948,
           31.536,
           31.5136,
           31.4474,
           31.3514,
           31.3416,
           31.2496,
           31.1688,
           31.1264,
           31.001,
           30.888,
           30.7596,
           30.5334,
           30.386,
           30.2616,
           30.013,
           29.579,
           29.406,
           29.2922,
           29.2562,
           29.2494,
           29.222,
           29.1954,
           29.1924,
           28.8914,
           28.8368,
           28.7936,
           28.7392,
           28.5988,
           28.3788,
           28.3546,
           28.2908,
           28.0314,
           27.6876,
           27.6072,
           27.592,
           27.3346,
           27.2884,
           26.7808,
           26.7246,
           26.2154,
           26.191,
           26.0534,
           25.9766,
           25.6538,
           25.603,
           25.5674,
           25.5118,
           25.3068,
           25.2126,
           25.1718,
           25.1486,
           25.0984,
           25.0378,
           25.0368,
           24.8246,
           24.7528,
           24.7506,
           24.721,
           24.6288,
           24.501,
           24.4588,
           24.4344,
           24.377,
           24.0266,
           24.009,
           23.839,
           23.7756,
           23.7454,
           23.6268,
           23.602,
           23.5666,
           23.4192,
           23.3816,
           23.372,
           23.0558,
           23.0552,
           22.9222,
           22.8708,
           22.854,
           22.8096,
           22.7936,
           22.777,
           22.5082,
           22.3408,
           22.2098,
           22.1668,
           22.0828,
           22.016,
           21.8486,
           21.6774,
           21.6488,
           21.6342,
           21.56,
           21.5508,
           21.5428,
           21.5156,
           21.5106,
           21.4996,
           21.4682,
           21.4012,
           21.315,
           21.2508,
           21.2376,
           21.1604,
           21.1068,
           21.0808,
           21.0506,
           20.8778,
           20.82,
           20.8006,
           20.7858,
           20.7846,
           20.7186,
           20.676,
           20.591,
           20.528,
           20.4958,
           20.3768,
           20.3352,
           20.2862,
           20.2698,
           20.2024,
           20.1704,
           20.1666,
           20.1074,
           20.0186,
           20.0064,
           19.9668,
           19.905,
           19.8176,
           19.7338,
           19.6596,
           19.6566,
           19.6024,
           19.4848,
           19.4828,
           19.4652,
           19.4022,
           19.362,
           19.292,
           19.263,
           19.1406,
           19.0336,
           19.0158,
           18.9596,
           18.9302,
           18.8636,
           18.8566,
           18.8418,
           18.8348,
           18.8294,
           18.819,
           18.806,
           18.6712,
           18.6504,
           18.5574,
           18.5102,
           18.388,
           18.384,
           18.3478,
           18.2836,
           18.2812,
           18.2392,
           18.202,
           18.1556,
           18.1498
          ],
          "sizemode": "area"
         },
         "name": "50 - 300",
         "text": [
          "New Orleans <br>Population 0.360877 million",
          "Bakersfield <br>Population 0.353533 million",
          "Tampa <br>Population 0.346934 million",
          "Anaheim <br>Population 0.34083 million",
          "Santa Ana <br>Population 0.328856 million",
          "St. Louis <br>Population 0.319188 million",
          "Riverside <br>Population 0.310025 million",
          "Corpus Christi <br>Population 0.308069 million",
          "Pittsburgh <br>Population 0.306099 million",
          "Lexington-Fayette urban county<br>Population 0.301213 million",
          "Cincinnati <br>Population 0.296114 million",
          "Stockton <br>Population 0.295386 million",
          "St. Paul <br>Population 0.288884 million",
          "Toledo <br>Population 0.285549 million",
          "Newark <br>Population 0.277854 million",
          "Greensboro <br>Population 0.272521 million",
          "Plano <br>Population 0.26762 million",
          "Lincoln <br>Population 0.262389 million",
          "Buffalo <br>Population 0.260525 million",
          "Henderson <br>Population 0.259958 million",
          "Fort Wayne <br>Population 0.254607 million",
          "Jersey City <br>Population 0.253117 million",
          "Chula Vista <br>Population 0.248684 million",
          "St. Petersburg <br>Population 0.246042 million",
          "Orlando <br>Population 0.243787 million",
          "Laredo <br>Population 0.241188 million",
          "Chandler <br>Population 0.239977 million",
          "Madison <br>Population 0.236923 million",
          "Lubbock <br>Population 0.233586 million",
          "Winston-Salem <br>Population 0.231873 million",
          "Hialeah <br>Population 0.231352 million",
          "Garland <br>Population 0.230205 million",
          "Baton Rouge <br>Population 0.228939 million",
          "Glendale <br>Population 0.228645 million",
          "Chesapeake <br>Population 0.225333 million",
          "Irvine <br>Population 0.220528 million",
          "Irving <br>Population 0.220012 million",
          "Scottsdale <br>Population 0.219841 million",
          "North Las Vegas <br>Population 0.218971 million",
          "Fremont <br>Population 0.21763 million",
          "Gilbert <br>Population 0.214057 million",
          "San Bernardino <br>Population 0.212061 million",
          "Rochester <br>Population 0.210891 million",
          "Boise City <br>Population 0.20928 million",
          "Spokane <br>Population 0.209025 million",
          "Montgomery <br>Population 0.207513 million",
          "Richmond <br>Population 0.206977 million",
          "Des Moines <br>Population 0.205908 million",
          "Modesto <br>Population 0.204312 million",
          "Shreveport <br>Population 0.201875 million",
          "Fayetteville <br>Population 0.201485 million",
          "Oxnard <br>Population 0.20008 million",
          "Tacoma <br>Population 0.199882 million",
          "Fontana <br>Population 0.199879 million",
          "Akron <br>Population 0.198909 million",
          "Yonkers <br>Population 0.197772 million",
          "Moreno Valley <br>Population 0.19697 million",
          "Little Rock <br>Population 0.195279 million",
          "Columbus <br>Population 0.195272 million",
          "Mobile <br>Population 0.194806 million",
          "Amarillo <br>Population 0.193907 million",
          "Huntington Beach <br>Population 0.193366 million",
          "Glendale <br>Population 0.193214 million",
          "Grand Rapids <br>Population 0.189054 million",
          "Salt Lake City <br>Population 0.188158 million",
          "Tallahassee <br>Population 0.183442 million",
          "Huntsville <br>Population 0.182219 million",
          "Knoxville <br>Population 0.180606 million",
          "Newport News <br>Population 0.180356 million",
          "Grand Prairie <br>Population 0.178811 million",
          "Brownsville <br>Population 0.178551 million",
          "Providence <br>Population 0.178375 million",
          "Santa Clarita <br>Population 0.177843 million",
          "Overland Park <br>Population 0.176068 million",
          "Jackson <br>Population 0.175448 million",
          "Garden Grove <br>Population 0.173281 million",
          "Chattanooga <br>Population 0.170486 million",
          "Oceanside <br>Population 0.169795 million",
          "Fort Lauderdale <br>Population 0.169045 million",
          "Rancho Cucamonga <br>Population 0.16821 million",
          "Port St. Lucie <br>Population 0.167112 million",
          "Tempe <br>Population 0.16373 million",
          "Springfield <br>Population 0.160408 million",
          "Lancaster <br>Population 0.158474 million",
          "Cape Coral <br>Population 0.15768 million",
          "Pembroke Pines <br>Population 0.157568 million",
          "Eugene <br>Population 0.157237 million",
          "Sioux Falls <br>Population 0.156757 million",
          "Peoria <br>Population 0.156708 million",
          "Salem <br>Population 0.156248 million",
          "Elk Grove <br>Population 0.155844 million",
          "Macon-Bibb County<br>Population 0.155632 million",
          "Corona <br>Population 0.155005 million",
          "Palmdale <br>Population 0.15444 million",
          "Springfield <br>Population 0.153798 million",
          "Salinas <br>Population 0.152667 million",
          "Rockford <br>Population 0.15193 million",
          "Pasadena <br>Population 0.151308 million",
          "Pomona <br>Population 0.150065 million",
          "Joliet <br>Population 0.147895 million",
          "Hayward <br>Population 0.14703 million",
          "Torrance <br>Population 0.146461 million",
          "Kansas City <br>Population 0.146281 million",
          "Escondido <br>Population 0.146247 million",
          "Bridgeport <br>Population 0.14611 million",
          "Fort Collins <br>Population 0.145977 million",
          "Paterson <br>Population 0.145962 million",
          "Syracuse <br>Population 0.144457 million",
          "Lakewood <br>Population 0.144184 million",
          "Sunnyvale <br>Population 0.143968 million",
          "Hollywood <br>Population 0.143696 million",
          "Naperville <br>Population 0.142994 million",
          "Dayton <br>Population 0.141894 million",
          "Cary <br>Population 0.141773 million",
          "Mesquite <br>Population 0.141454 million",
          "Savannah <br>Population 0.140157 million",
          "Orange <br>Population 0.138438 million",
          "Pasadena <br>Population 0.138036 million",
          "McKinney <br>Population 0.13796 million",
          "Fullerton <br>Population 0.136673 million",
          "Clarksville <br>Population 0.136442 million",
          "Warren <br>Population 0.133904 million",
          "McAllen <br>Population 0.133623 million",
          "West Valley City <br>Population 0.131077 million",
          "New Haven <br>Population 0.130955 million",
          "Bellevue <br>Population 0.130267 million",
          "Sterling Heights <br>Population 0.129883 million",
          "Olathe <br>Population 0.128269 million",
          "Topeka <br>Population 0.128015 million",
          "Cedar Rapids <br>Population 0.127837 million",
          "Thousand Oaks <br>Population 0.127559 million",
          "Waco <br>Population 0.126534 million",
          "Elizabeth <br>Population 0.126063 million",
          "Visalia <br>Population 0.125859 million",
          "Gainesville <br>Population 0.125743 million",
          "Hartford <br>Population 0.125492 million",
          "Miramar <br>Population 0.125189 million",
          "Simi Valley <br>Population 0.125184 million",
          "Stamford <br>Population 0.124123 million",
          "Concord <br>Population 0.123764 million",
          "Coral Springs <br>Population 0.123753 million",
          "Frisco <br>Population 0.123605 million",
          "Charleston <br>Population 0.123144 million",
          "Carrollton <br>Population 0.122505 million",
          "Roseville <br>Population 0.122294 million",
          "Lafayette <br>Population 0.122172 million",
          "Thornton <br>Population 0.121885 million",
          "Evansville <br>Population 0.120133 million",
          "Denton <br>Population 0.120045 million",
          "Surprise <br>Population 0.119195 million",
          "Allen <br>Population 0.118878 million",
          "Abilene <br>Population 0.118727 million",
          "Victorville <br>Population 0.118134 million",
          "Santa Clara <br>Population 0.11801 million",
          "Beaumont <br>Population 0.117833 million",
          "Springfield <br>Population 0.117096 million",
          "Vallejo <br>Population 0.116908 million",
          "Independence <br>Population 0.11686 million",
          "Peoria <br>Population 0.115279 million",
          "Ann Arbor <br>Population 0.115276 million",
          "Provo <br>Population 0.114611 million",
          "El Monte <br>Population 0.114354 million",
          "Lansing <br>Population 0.11427 million",
          "Berkeley <br>Population 0.114048 million",
          "Norman <br>Population 0.113968 million",
          "Midland <br>Population 0.113885 million",
          "Downey <br>Population 0.112541 million",
          "Murfreesboro <br>Population 0.111704 million",
          "Costa Mesa <br>Population 0.111049 million",
          "Inglewood <br>Population 0.110834 million",
          "Miami Gardens <br>Population 0.110414 million",
          "Waterbury <br>Population 0.11008 million",
          "Elgin <br>Population 0.109243 million",
          "Clearwater <br>Population 0.108387 million",
          "Wilmington <br>Population 0.108244 million",
          "Rochester <br>Population 0.108171 million",
          "San Buenaventura (Ventura) <br>Population 0.1078 million",
          "Carlsbad <br>Population 0.107754 million",
          "Fargo <br>Population 0.107714 million",
          "Arvada <br>Population 0.107578 million",
          "Lowell <br>Population 0.107553 million",
          "Gresham <br>Population 0.107498 million",
          "Pueblo <br>Population 0.107341 million",
          "West Covina <br>Population 0.107006 million",
          "West Jordan <br>Population 0.106575 million",
          "Fairfield <br>Population 0.106254 million",
          "Norwalk <br>Population 0.106188 million",
          "High Point <br>Population 0.105802 million",
          "Billings <br>Population 0.105534 million",
          "Richmond <br>Population 0.105404 million",
          "Murrieta <br>Population 0.105253 million",
          "Green Bay <br>Population 0.104389 million",
          "Wichita Falls <br>Population 0.1041 million",
          "Burbank <br>Population 0.104003 million",
          "Round Rock <br>Population 0.103929 million",
          "Antioch <br>Population 0.103923 million",
          "Everett <br>Population 0.103593 million",
          "Palm Bay <br>Population 0.10338 million",
          "Temecula <br>Population 0.102955 million",
          "Daly City <br>Population 0.10264 million",
          "Centennial <br>Population 0.102479 million",
          "Pompano Beach <br>Population 0.101884 million",
          "Richardson <br>Population 0.101676 million",
          "Erie <br>Population 0.101431 million",
          "West Palm Beach <br>Population 0.101349 million",
          "South Bend <br>Population 0.101012 million",
          "Boulder <br>Population 0.100852 million",
          "El Cajon <br>Population 0.100833 million",
          "Davenport <br>Population 0.100537 million",
          "Broken Arrow <br>Population 0.100093 million",
          "Las Cruces <br>Population 0.100032 million",
          "North Charleston <br>Population 0.099834 million",
          "Kenosha <br>Population 0.099525 million",
          "Lakeland <br>Population 0.099088 million",
          "San Mateo <br>Population 0.098669 million",
          "Tyler <br>Population 0.098298 million",
          "Lawton <br>Population 0.098283 million",
          "Albany <br>Population 0.098012 million",
          "Lewisville <br>Population 0.097424 million",
          "Clovis <br>Population 0.097414 million",
          "Dearborn <br>Population 0.097326 million",
          "Sandy Springs <br>Population 0.097011 million",
          "Roanoke <br>Population 0.09681 million",
          "Jurupa Valley <br>Population 0.09646 million",
          "Livonia <br>Population 0.096315 million",
          "College Station <br>Population 0.095703 million",
          "Vista <br>Population 0.095168 million",
          "South Gate <br>Population 0.095079 million",
          "New Bedford <br>Population 0.094798 million",
          "San Angelo <br>Population 0.094651 million",
          "Greeley <br>Population 0.094318 million",
          "Davie <br>Population 0.094283 million",
          "Mission Viejo <br>Population 0.094209 million",
          "Yuma <br>Population 0.094174 million",
          "Brockton <br>Population 0.094147 million",
          "Hillsboro <br>Population 0.094095 million",
          "Renton <br>Population 0.09403 million",
          "Vacaville <br>Population 0.093356 million",
          "Pearland <br>Population 0.093252 million",
          "Yakima <br>Population 0.092787 million",
          "Quincy <br>Population 0.092551 million",
          "Carson <br>Population 0.09194 million",
          "Lee's Summit <br>Population 0.09192 million",
          "Tuscaloosa <br>Population 0.091739 million",
          "Hesperia <br>Population 0.091418 million",
          "Beaverton <br>Population 0.091406 million",
          "Roswell <br>Population 0.091196 million",
          "Sparks <br>Population 0.09101 million",
          "Lynn <br>Population 0.090778 million",
          "Santa Monica <br>Population 0.090749 million"
         ],
         "type": "scattergeo"
        }
       ],
       "layout": {
        "geo": {
         "landcolor": "rgb(217, 217, 217)",
         "scope": "usa"
        },
        "showlegend": true,
        "template": {
         "data": {
          "bar": [
           {
            "error_x": {
             "color": "#2a3f5f"
            },
            "error_y": {
             "color": "#2a3f5f"
            },
            "marker": {
             "line": {
              "color": "#E5ECF6",
              "width": 0.5
             }
            },
            "type": "bar"
           }
          ],
          "barpolar": [
           {
            "marker": {
             "line": {
              "color": "#E5ECF6",
              "width": 0.5
             }
            },
            "type": "barpolar"
           }
          ],
          "carpet": [
           {
            "aaxis": {
             "endlinecolor": "#2a3f5f",
             "gridcolor": "white",
             "linecolor": "white",
             "minorgridcolor": "white",
             "startlinecolor": "#2a3f5f"
            },
            "baxis": {
             "endlinecolor": "#2a3f5f",
             "gridcolor": "white",
             "linecolor": "white",
             "minorgridcolor": "white",
             "startlinecolor": "#2a3f5f"
            },
            "type": "carpet"
           }
          ],
          "choropleth": [
           {
            "colorbar": {
             "outlinewidth": 0,
             "ticks": ""
            },
            "type": "choropleth"
           }
          ],
          "contour": [
           {
            "colorbar": {
             "outlinewidth": 0,
             "ticks": ""
            },
            "colorscale": [
             [
              0,
              "#0d0887"
             ],
             [
              0.1111111111111111,
              "#46039f"
             ],
             [
              0.2222222222222222,
              "#7201a8"
             ],
             [
              0.3333333333333333,
              "#9c179e"
             ],
             [
              0.4444444444444444,
              "#bd3786"
             ],
             [
              0.5555555555555556,
              "#d8576b"
             ],
             [
              0.6666666666666666,
              "#ed7953"
             ],
             [
              0.7777777777777778,
              "#fb9f3a"
             ],
             [
              0.8888888888888888,
              "#fdca26"
             ],
             [
              1,
              "#f0f921"
             ]
            ],
            "type": "contour"
           }
          ],
          "contourcarpet": [
           {
            "colorbar": {
             "outlinewidth": 0,
             "ticks": ""
            },
            "type": "contourcarpet"
           }
          ],
          "heatmap": [
           {
            "colorbar": {
             "outlinewidth": 0,
             "ticks": ""
            },
            "colorscale": [
             [
              0,
              "#0d0887"
             ],
             [
              0.1111111111111111,
              "#46039f"
             ],
             [
              0.2222222222222222,
              "#7201a8"
             ],
             [
              0.3333333333333333,
              "#9c179e"
             ],
             [
              0.4444444444444444,
              "#bd3786"
             ],
             [
              0.5555555555555556,
              "#d8576b"
             ],
             [
              0.6666666666666666,
              "#ed7953"
             ],
             [
              0.7777777777777778,
              "#fb9f3a"
             ],
             [
              0.8888888888888888,
              "#fdca26"
             ],
             [
              1,
              "#f0f921"
             ]
            ],
            "type": "heatmap"
           }
          ],
          "heatmapgl": [
           {
            "colorbar": {
             "outlinewidth": 0,
             "ticks": ""
            },
            "colorscale": [
             [
              0,
              "#0d0887"
             ],
             [
              0.1111111111111111,
              "#46039f"
             ],
             [
              0.2222222222222222,
              "#7201a8"
             ],
             [
              0.3333333333333333,
              "#9c179e"
             ],
             [
              0.4444444444444444,
              "#bd3786"
             ],
             [
              0.5555555555555556,
              "#d8576b"
             ],
             [
              0.6666666666666666,
              "#ed7953"
             ],
             [
              0.7777777777777778,
              "#fb9f3a"
             ],
             [
              0.8888888888888888,
              "#fdca26"
             ],
             [
              1,
              "#f0f921"
             ]
            ],
            "type": "heatmapgl"
           }
          ],
          "histogram": [
           {
            "marker": {
             "colorbar": {
              "outlinewidth": 0,
              "ticks": ""
             }
            },
            "type": "histogram"
           }
          ],
          "histogram2d": [
           {
            "colorbar": {
             "outlinewidth": 0,
             "ticks": ""
            },
            "colorscale": [
             [
              0,
              "#0d0887"
             ],
             [
              0.1111111111111111,
              "#46039f"
             ],
             [
              0.2222222222222222,
              "#7201a8"
             ],
             [
              0.3333333333333333,
              "#9c179e"
             ],
             [
              0.4444444444444444,
              "#bd3786"
             ],
             [
              0.5555555555555556,
              "#d8576b"
             ],
             [
              0.6666666666666666,
              "#ed7953"
             ],
             [
              0.7777777777777778,
              "#fb9f3a"
             ],
             [
              0.8888888888888888,
              "#fdca26"
             ],
             [
              1,
              "#f0f921"
             ]
            ],
            "type": "histogram2d"
           }
          ],
          "histogram2dcontour": [
           {
            "colorbar": {
             "outlinewidth": 0,
             "ticks": ""
            },
            "colorscale": [
             [
              0,
              "#0d0887"
             ],
             [
              0.1111111111111111,
              "#46039f"
             ],
             [
              0.2222222222222222,
              "#7201a8"
             ],
             [
              0.3333333333333333,
              "#9c179e"
             ],
             [
              0.4444444444444444,
              "#bd3786"
             ],
             [
              0.5555555555555556,
              "#d8576b"
             ],
             [
              0.6666666666666666,
              "#ed7953"
             ],
             [
              0.7777777777777778,
              "#fb9f3a"
             ],
             [
              0.8888888888888888,
              "#fdca26"
             ],
             [
              1,
              "#f0f921"
             ]
            ],
            "type": "histogram2dcontour"
           }
          ],
          "mesh3d": [
           {
            "colorbar": {
             "outlinewidth": 0,
             "ticks": ""
            },
            "type": "mesh3d"
           }
          ],
          "parcoords": [
           {
            "line": {
             "colorbar": {
              "outlinewidth": 0,
              "ticks": ""
             }
            },
            "type": "parcoords"
           }
          ],
          "pie": [
           {
            "automargin": true,
            "type": "pie"
           }
          ],
          "scatter": [
           {
            "marker": {
             "colorbar": {
              "outlinewidth": 0,
              "ticks": ""
             }
            },
            "type": "scatter"
           }
          ],
          "scatter3d": [
           {
            "line": {
             "colorbar": {
              "outlinewidth": 0,
              "ticks": ""
             }
            },
            "marker": {
             "colorbar": {
              "outlinewidth": 0,
              "ticks": ""
             }
            },
            "type": "scatter3d"
           }
          ],
          "scattercarpet": [
           {
            "marker": {
             "colorbar": {
              "outlinewidth": 0,
              "ticks": ""
             }
            },
            "type": "scattercarpet"
           }
          ],
          "scattergeo": [
           {
            "marker": {
             "colorbar": {
              "outlinewidth": 0,
              "ticks": ""
             }
            },
            "type": "scattergeo"
           }
          ],
          "scattergl": [
           {
            "marker": {
             "colorbar": {
              "outlinewidth": 0,
              "ticks": ""
             }
            },
            "type": "scattergl"
           }
          ],
          "scattermapbox": [
           {
            "marker": {
             "colorbar": {
              "outlinewidth": 0,
              "ticks": ""
             }
            },
            "type": "scattermapbox"
           }
          ],
          "scatterpolar": [
           {
            "marker": {
             "colorbar": {
              "outlinewidth": 0,
              "ticks": ""
             }
            },
            "type": "scatterpolar"
           }
          ],
          "scatterpolargl": [
           {
            "marker": {
             "colorbar": {
              "outlinewidth": 0,
              "ticks": ""
             }
            },
            "type": "scatterpolargl"
           }
          ],
          "scatterternary": [
           {
            "marker": {
             "colorbar": {
              "outlinewidth": 0,
              "ticks": ""
             }
            },
            "type": "scatterternary"
           }
          ],
          "surface": [
           {
            "colorbar": {
             "outlinewidth": 0,
             "ticks": ""
            },
            "colorscale": [
             [
              0,
              "#0d0887"
             ],
             [
              0.1111111111111111,
              "#46039f"
             ],
             [
              0.2222222222222222,
              "#7201a8"
             ],
             [
              0.3333333333333333,
              "#9c179e"
             ],
             [
              0.4444444444444444,
              "#bd3786"
             ],
             [
              0.5555555555555556,
              "#d8576b"
             ],
             [
              0.6666666666666666,
              "#ed7953"
             ],
             [
              0.7777777777777778,
              "#fb9f3a"
             ],
             [
              0.8888888888888888,
              "#fdca26"
             ],
             [
              1,
              "#f0f921"
             ]
            ],
            "type": "surface"
           }
          ],
          "table": [
           {
            "cells": {
             "fill": {
              "color": "#EBF0F8"
             },
             "line": {
              "color": "white"
             }
            },
            "header": {
             "fill": {
              "color": "#C8D4E3"
             },
             "line": {
              "color": "white"
             }
            },
            "type": "table"
           }
          ]
         },
         "layout": {
          "annotationdefaults": {
           "arrowcolor": "#2a3f5f",
           "arrowhead": 0,
           "arrowwidth": 1
          },
          "coloraxis": {
           "colorbar": {
            "outlinewidth": 0,
            "ticks": ""
           }
          },
          "colorscale": {
           "diverging": [
            [
             0,
             "#8e0152"
            ],
            [
             0.1,
             "#c51b7d"
            ],
            [
             0.2,
             "#de77ae"
            ],
            [
             0.3,
             "#f1b6da"
            ],
            [
             0.4,
             "#fde0ef"
            ],
            [
             0.5,
             "#f7f7f7"
            ],
            [
             0.6,
             "#e6f5d0"
            ],
            [
             0.7,
             "#b8e186"
            ],
            [
             0.8,
             "#7fbc41"
            ],
            [
             0.9,
             "#4d9221"
            ],
            [
             1,
             "#276419"
            ]
           ],
           "sequential": [
            [
             0,
             "#0d0887"
            ],
            [
             0.1111111111111111,
             "#46039f"
            ],
            [
             0.2222222222222222,
             "#7201a8"
            ],
            [
             0.3333333333333333,
             "#9c179e"
            ],
            [
             0.4444444444444444,
             "#bd3786"
            ],
            [
             0.5555555555555556,
             "#d8576b"
            ],
            [
             0.6666666666666666,
             "#ed7953"
            ],
            [
             0.7777777777777778,
             "#fb9f3a"
            ],
            [
             0.8888888888888888,
             "#fdca26"
            ],
            [
             1,
             "#f0f921"
            ]
           ],
           "sequentialminus": [
            [
             0,
             "#0d0887"
            ],
            [
             0.1111111111111111,
             "#46039f"
            ],
            [
             0.2222222222222222,
             "#7201a8"
            ],
            [
             0.3333333333333333,
             "#9c179e"
            ],
            [
             0.4444444444444444,
             "#bd3786"
            ],
            [
             0.5555555555555556,
             "#d8576b"
            ],
            [
             0.6666666666666666,
             "#ed7953"
            ],
            [
             0.7777777777777778,
             "#fb9f3a"
            ],
            [
             0.8888888888888888,
             "#fdca26"
            ],
            [
             1,
             "#f0f921"
            ]
           ]
          },
          "colorway": [
           "#636efa",
           "#EF553B",
           "#00cc96",
           "#ab63fa",
           "#FFA15A",
           "#19d3f3",
           "#FF6692",
           "#B6E880",
           "#FF97FF",
           "#FECB52"
          ],
          "font": {
           "color": "#2a3f5f"
          },
          "geo": {
           "bgcolor": "white",
           "lakecolor": "white",
           "landcolor": "#E5ECF6",
           "showlakes": true,
           "showland": true,
           "subunitcolor": "white"
          },
          "hoverlabel": {
           "align": "left"
          },
          "hovermode": "closest",
          "mapbox": {
           "style": "light"
          },
          "paper_bgcolor": "white",
          "plot_bgcolor": "#E5ECF6",
          "polar": {
           "angularaxis": {
            "gridcolor": "white",
            "linecolor": "white",
            "ticks": ""
           },
           "bgcolor": "#E5ECF6",
           "radialaxis": {
            "gridcolor": "white",
            "linecolor": "white",
            "ticks": ""
           }
          },
          "scene": {
           "xaxis": {
            "backgroundcolor": "#E5ECF6",
            "gridcolor": "white",
            "gridwidth": 2,
            "linecolor": "white",
            "showbackground": true,
            "ticks": "",
            "zerolinecolor": "white"
           },
           "yaxis": {
            "backgroundcolor": "#E5ECF6",
            "gridcolor": "white",
            "gridwidth": 2,
            "linecolor": "white",
            "showbackground": true,
            "ticks": "",
            "zerolinecolor": "white"
           },
           "zaxis": {
            "backgroundcolor": "#E5ECF6",
            "gridcolor": "white",
            "gridwidth": 2,
            "linecolor": "white",
            "showbackground": true,
            "ticks": "",
            "zerolinecolor": "white"
           }
          },
          "shapedefaults": {
           "line": {
            "color": "#2a3f5f"
           }
          },
          "ternary": {
           "aaxis": {
            "gridcolor": "white",
            "linecolor": "white",
            "ticks": ""
           },
           "baxis": {
            "gridcolor": "white",
            "linecolor": "white",
            "ticks": ""
           },
           "bgcolor": "#E5ECF6",
           "caxis": {
            "gridcolor": "white",
            "linecolor": "white",
            "ticks": ""
           }
          },
          "title": {
           "x": 0.05
          },
          "xaxis": {
           "automargin": true,
           "gridcolor": "white",
           "linecolor": "white",
           "ticks": "",
           "title": {
            "standoff": 15
           },
           "zerolinecolor": "white",
           "zerolinewidth": 2
          },
          "yaxis": {
           "automargin": true,
           "gridcolor": "white",
           "linecolor": "white",
           "ticks": "",
           "title": {
            "standoff": 15
           },
           "zerolinecolor": "white",
           "zerolinewidth": 2
          }
         }
        },
        "title": {
         "text": "2014 US city populations<br>(Click legend to toggle traces)"
        }
       }
      },
      "text/html": [
       "<div>                            <div id=\"1ca9d253-b62b-41f5-93d2-8bf19fe5106f\" class=\"plotly-graph-div\" style=\"height:525px; width:100%;\"></div>            <script type=\"text/javascript\">                require([\"plotly\"], function(Plotly) {                    window.PLOTLYENV=window.PLOTLYENV || {};                                    if (document.getElementById(\"1ca9d253-b62b-41f5-93d2-8bf19fe5106f\")) {                    Plotly.newPlot(                        \"1ca9d253-b62b-41f5-93d2-8bf19fe5106f\",                        [{\"lat\": [40.7305991, 34.053717], \"locationmode\": \"USA-states\", \"lon\": [-73.9865812, -118.2427266], \"marker\": {\"color\": \"royalblue\", \"line\": {\"color\": \"rgb(40,40,40)\", \"width\": 0.5}, \"size\": [1657.4476, 765.2846], \"sizemode\": \"area\"}, \"name\": \"0 - 2\", \"text\": [\"New York <br>Population 8.287238 million\", \"Los Angeles <br>Population 3.826423 million\"], \"type\": \"scattergeo\"}, {\"lat\": [29.7589382, 39.952335, 33.4467681, 29.4246002, 32.7174209, 32.7761963, 37.3438502], \"locationmode\": \"USA-states\", \"lon\": [-95.3676974, -75.163789, -112.0756724, -98.4951405, -117.1627714, -96.7968994, -121.8831349], \"marker\": {\"color\": \"crimson\", \"line\": {\"color\": \"rgb(40,40,40)\", \"width\": 0.5}, \"size\": [425.9568, 307.8626, 293.0228, 271.8348, 264.2032, 243.8798, 194.299], \"sizemode\": \"area\"}, \"name\": \"3 - 10\", \"text\": [\"Houston <br>Population 2.129784 million\", \"Philadelphia <br>Population 1.539313 million\", \"Phoenix <br>Population 1.465114 million\", \"San Antonio <br>Population 1.359174 million\", \"San Diego <br>Population 1.321016 million\", \"Dallas <br>Population 1.219399 million\", \"San Jose <br>Population 0.971495 million\"], \"type\": \"scattergeo\"}, {\"lat\": [30.3321838, 39.7683331, 37.7792768, 39.9622601, 32.753177, 35.2270869, 42.3486635, 31.8111305, 35.1490215], \"locationmode\": \"USA-states\", \"lon\": [-81.655651, -86.1583502, -122.4192704, -83.0007065, -97.3327459, -80.8431268, -83.0567375, -106.5013493, -90.0516285], \"marker\": {\"color\": \"lightseagreen\", \"line\": {\"color\": \"rgb(40,40,40)\", \"width\": 0.5}, \"size\": [165.9086, 165.4692, 163.2478, 159.854, 152.379, 151.2408, 140.4298, 133.1006, 131.195], \"sizemode\": \"area\"}, \"name\": \"11 - 20\", \"text\": [\"Jacksonville <br>Population 0.829543 million\", \"Indianapolis  <br>Population 0.827346 million\", \"San Francisco <br>Population 0.816239 million\", \"Columbus <br>Population 0.79927 million\", \"Fort Worth <br>Population 0.761895 million\", \"Charlotte <br>Population 0.756204 million\", \"Detroit <br>Population 0.702149 million\", \"El Paso <br>Population 0.665503 million\", \"Memphis <br>Population 0.655975 million\"], \"type\": \"scattergeo\"}, {\"lat\": [47.6038321, 39.2908608, 38.8949549, 39.7391536, 36.187025, 38.209237, 43.0349931, 45.5202471, 35.4729886, 36.1662859, 35.0841034, 32.2217422, 36.7394421, 38.5815719, 33.7774658, 39.0844687, 33.436188, 36.7953025, 33.7490987, 41.2587317, 38.8339578, 35.7804015, 25.7742658, 37.8044557, 36.1556805, 41.5051613, 44.9772995, 37.6922361, 32.7355816], \"locationmode\": \"USA-states\", \"lon\": [-122.3300624, -76.6108073, -77.0366456, -104.9847034, -86.78086153, -85.7038502, -87.922497, -122.6741949, -97.5170536, -115.149225, -106.6509851, -110.9264759, -119.7848307, -121.4943996, -118.1884871, -94.5630298, -111.5860661, -76.05092502, -84.3901849, -95.9378732, -104.8253485, -78.6390779, -80.1936589, -122.2713563, -95.9929113, -81.6934446, -93.2654692, -97.3375448, -97.1071186], \"marker\": {\"color\": \"orange\", \"line\": {\"color\": \"rgb(40,40,40)\", \"width\": 0.5}, \"size\": [124.435, 124.1778, 124.0854, 123.878, 122.4486, 120.3418, 119.487, 118.7718, 117.9792, 117.6514, 110.3626, 104.8384, 100.2714, 94.325, 93.165, 92.407, 88.9908, 88.5968, 86.427, 85.9208, 85.4832, 82.827, 82.4876, 79.3298, 78.5502, 78.501, 77.6506, 76.7392, 74.1816], \"sizemode\": \"area\"}, \"name\": \"21 - 50\", \"text\": [\"Seattle <br>Population 0.622175 million\", \"Baltimore <br>Population 0.620889 million\", \"Washington <br>Population 0.620427 million\", \"Denver <br>Population 0.61939 million\", \"Nashville-Davidson   <br>Population 0.612243 million\", \"Louisville/Jefferson County   <br>Population 0.601709 million\", \"Milwaukee <br>Population 0.597435 million\", \"Portland <br>Population 0.593859 million\", \"Oklahoma City <br>Population 0.589896 million\", \"Las Vegas <br>Population 0.588257 million\", \"Albuquerque <br>Population 0.551813 million\", \"Tucson <br>Population 0.524192 million\", \"Fresno <br>Population 0.501357 million\", \"Sacramento <br>Population 0.471625 million\", \"Long Beach <br>Population 0.465825 million\", \"Kansas City <br>Population 0.462035 million\", \"Mesa <br>Population 0.444954 million\", \"Virginia Beach <br>Population 0.442984 million\", \"Atlanta <br>Population 0.432135 million\", \"Omaha <br>Population 0.429604 million\", \"Colorado Springs <br>Population 0.427416 million\", \"Raleigh <br>Population 0.414135 million\", \"Miami <br>Population 0.412438 million\", \"Oakland <br>Population 0.396649 million\", \"Tulsa <br>Population 0.392751 million\", \"Cleveland <br>Population 0.392505 million\", \"Minneapolis <br>Population 0.388253 million\", \"Wichita <br>Population 0.383696 million\", \"Arlington <br>Population 0.370908 million\"], \"type\": \"scattergeo\"}, {\"lat\": [29.9499323, 35.3738712, 27.9477595, 33.8347516, 33.7499595, 38.6272733, 33.9533546, 27.8002542, 40.4416941, 38.0464066, 39.1014537, 37.9577016, 44.9504037, 41.6786754, 40.735657, 36.0726355, 33.0136764, 40.8000554, 42.8864468, 40.8156124, 41.0799898, 40.7281575, 32.6400541, 27.7703796, 28.5421175, 27.5060991, 33.3067132, 43.074761, 33.5778631, 36.0998167, 25.8670435, 32.912624, 30.4507462, 34.1423455, 36.8190369, 33.6856969, 32.8629195, 33.5091215, 36.2008371, 37.5482697, 33.294207, 34.1083449, 43.1854754, 43.5988375, 47.6588603, 32.3669656, 37.5385087, 41.5910641, 37.6390972, 32.4828485, 36.111508, 34.1975048, 47.2495798, 34.0922335, 41.0830643, 40.9312099, 33.937517, 34.7464809, 39.9622601, 30.6943566, 35.2072185, 33.6781238, 34.1423455, 42.9632405, 40.7670126, 30.4380832, 34.577718, 35.9603948, 37.016827, 32.7459645, 25.9140256, 41.8239891, 34.3916641, 38.9822282, 32.2990384, 33.7746292, 35.0456297, 33.1958696, 26.1223084, 34.1063989, 27.2939333, 33.4144139, 39.7989763, 40.03813, 26.6069232, 26.02322025, 44.0505054, 43.5499749, 40.6938609, 44.9391565, 38.4087993, 32.8406946, 40.7469593, 34.5793131, 39.7989763, 36.6777078, 42.2713945, 34.1476452, 34.0552886, 41.525031, 37.6688205, 33.8358492, 39.0844687, 33.1216751, 41.1670412, 40.5508527, 40.9167654, 43.0481221, 39.6246085, 37.3688301, 34.1028268, 41.7729107, 39.7589478, 35.7882973, 32.7666103, 32.0835407, 33.7500378, 34.1476452, 33.1976496, 33.8708215, 38.2967791, 40.8442828, 26.154573, 40.6916132, 41.3082138, 47.6144219, 42.5803122, 38.8843867, 39.0490111, 41.9758872, 34.1705609, 31.549333, 40.6639916, 36.3302284, 29.651907, 41.7634935, 25.97591145, 34.2694474, 41.0534302, 43.207106, 26.26485615, 35.2351765, 32.7876012, 33.5801103, 38.72338, 30.2240897, 39.95782075, 37.9747645, 33.1728435, 33.6292271, 37.8882168, 32.4464534, 34.5361067, 37.3541132, 30.0860459, 39.7989763, 38.1040864, 37.2242358, 40.6938609, 42.2681569, 40.2338438, 34.0751571, 42.7337712, 37.8708393, 35.2225717, 43.6155825, 33.9400143, 35.9155165, 33.6633386, 33.9616801, 25.94207545, 41.5581525, 42.0372487, 27.9658533, 39.7459468, 43.1854754, 34.302548, 33.1580933, 46.8772292, 39.8027644, 42.6334247, 45.5067406, 38.2544472, 34.0686208, 40.6096698, 38.2493581, 41.1175966, 35.9556924, 45.7874957, 37.5385087, 33.560832, 44.5299412, 33.9137085, 34.1816482, 30.5725805, 38.0049214, 47.9673056, 28.0331886, 33.4946353, 37.688432, 39.5680644, 26.2378597, 32.9481789, 42.129461, 26.7153425, 41.6833813, 40.0149856, 32.7947731, 41.5236436, 36.0525993, 32.3140354, 32.8546197, 42.5846773, 28.0394654, 37.496904, 32.3512601, 34.6086854, 42.6511674, 33.046233, 34.405472, 42.3222599, 33.9242688, 37.270973, 33.9798472, 42.36837, 30.6262616, 33.2000368, 33.9463456, 41.6362152, 31.4319925, 40.4233142, 26.075729, 33.5965685, 32.665167, 42.0834335, 45.5228939, 47.4799078, 38.3760441, 29.5639758, 46.601557, 39.9356016, 33.8322043, 38.9108408, 33.2668398, 34.4263886, 45.4871723, 33.3942655, 39.5348431, 42.466763, 34.0195598], \"locationmode\": \"USA-states\", \"lon\": [-90.0701156, -119.0194639, -82.458444, -117.911732, -117.8732826, -90.1978889, -117.3961623, -97.3955744, -79.9900861, -84.4970393, -84.5124602, -121.2907796, -93.1015026, -83.5127283, -74.1723667, -79.7919754, -96.6925096, -96.6674005, -78.8783689, -90.9104547, -85.1386015, -74.0776417, -117.0841955, -82.6695085, -81.3790462, -99.5088979, -111.8408489, -89.3837613, -101.8551665, -80.2441445, -80.29146312, -96.6388833, -91.154551, -118.2483671, -76.2749399, -117.8259819, -96.97917017, -111.8992365, -115.1120958, -121.9885719, -111.7379465, -117.2897652, -77.61068605, -116.243255, -117.4247134, -86.3006485, -77.43428, -93.6037149, -120.9968782, -93.82848316, -94.20986672, -119.1770516, -122.4398746, -117.435048, -81.5184854, -73.8987469, -117.2305944, -92.2895948, -83.0007065, -88.0430541, -101.8338246, -118.0000112, -118.2483671, -85.6678639, -111.8904308, -84.2809332, -86.83583561, -83.9210261, -76.4505196, -96.9977846, -97.4890856, -71.4128343, -118.542586, -94.6707917, -90.1847691, -117.9463717, -85.3096801, -117.3794834, -80.1433786, -117.5931084, -80.3503283, -111.9094474, -89.6443688, -76.3056686, -81.9802626, -80.34123892, -123.0950506, -96.700327, -89.5891008, -123.033121, -121.3716178, -83.6324022, -73.8601456, -118.1171108, -89.6443688, -121.6560114, -89.093966, -118.1444779, -117.7522793, -88.0817252, -122.0807964, -118.3406288, -94.5630298, -117.0814849, -73.2048348, -105.0668085, -74.171811, -76.1474244, -105.0842039, -122.0363496, -118.3299899, -88.147867, -84.1916069, -78.7811925, -96.599472, -81.0998342, -117.8704931, -118.1444779, -96.6154471, -117.9294165, -85.7602087, -90.6168408, -98.26072076, -112.0010501, -72.9250518, -122.1923372, -83.0302033, -94.8161127, -95.6775557, -91.6704053, -118.8375937, -97.1466695, -74.2107006, -119.2920585, -82.3247976, -72.6830523, -80.33472113, -118.781482, -73.5387341, -71.5370216, -80.26534189, -75.6284903, -79.9402728, -85.0766113, -121.1858782, -92.0198427, -104.9669887, -87.5558483, -97.05898636, -112.3680189, -95.3170208, -99.7333478, -117.2911565, -121.9551744, -94.1018461, -89.6443688, -122.2566367, -95.7083131, -89.5891008, -83.7312291, -111.6585337, -118.036849, -84.5553805, -122.2728639, -97.4394816, -84.2472117, -118.1325688, -86.44469333, -117.903317, -118.3531311, -80.23975271, -73.0514966, -88.2811895, -82.8001026, -75.546589, -77.61068605, -119.2072845, -117.3505939, -96.789821, -105.0874842, -71.3161718, -122.4367058, -104.609141, -117.9389526, -111.9391031, -122.0399663, -73.4078968, -80.0053176, -108.49607, -77.43428, -117.2106564, -88.0248317, -98.4933873, -118.3258554, -97.64840733, -121.805789, -122.2013998, -80.6429695, -117.1473661, -122.4606865, -104.9778307, -80.1247667, -96.7297206, -80.085239, -80.0533746, -86.2500066, -105.2705456, -116.9625269, -90.5776368, -95.7908195, -106.7798078, -79.9748103, -87.8212263, -81.9498042, -122.3330573, -95.3010624, -98.3903305, -73.754968, -96.994174, -103.2050709, -83.1763145, -84.3785379, -79.9414313, -117.4515754, -83.3527097, -96.3347249, -117.2425355, -118.200981, -70.934205, -100.4545797, -104.7091322, -80.28410878, -117.659405, -114.4759049, -71.0183787, -122.989827, -122.2034496, -121.9954703, -95.2864299, -120.5108421, -91.4098727, -118.2517547, -94.3821724, -87.4862182, -117.3008784, -122.8037804, -104.5230242, -119.7527683, -70.9494939, -118.4869739], \"marker\": {\"color\": \"lightgrey\", \"line\": {\"color\": \"rgb(40,40,40)\", \"width\": 0.5}, \"size\": [72.1754, 70.7066, 69.3868, 68.166, 65.7712, 63.8376, 62.005, 61.6138, 61.2198, 60.2426, 59.2228, 59.0772, 57.7768, 57.1098, 55.5708, 54.5042, 53.524, 52.4778, 52.105, 51.9916, 50.9214, 50.6234, 49.7368, 49.2084, 48.7574, 48.2376, 47.9954, 47.3846, 46.7172, 46.3746, 46.2704, 46.041, 45.7878, 45.729, 45.0666, 44.1056, 44.0024, 43.9682, 43.7942, 43.526, 42.8114, 42.4122, 42.1782, 41.856, 41.805, 41.5026, 41.3954, 41.1816, 40.8624, 40.375, 40.297, 40.016, 39.9764, 39.9758, 39.7818, 39.5544, 39.394, 39.0558, 39.0544, 38.9612, 38.7814, 38.6732, 38.6428, 37.8108, 37.6316, 36.6884, 36.4438, 36.1212, 36.0712, 35.7622, 35.7102, 35.675, 35.5686, 35.2136, 35.0896, 34.6562, 34.0972, 33.959, 33.809, 33.642, 33.4224, 32.746, 32.0816, 31.6948, 31.536, 31.5136, 31.4474, 31.3514, 31.3416, 31.2496, 31.1688, 31.1264, 31.001, 30.888, 30.7596, 30.5334, 30.386, 30.2616, 30.013, 29.579, 29.406, 29.2922, 29.2562, 29.2494, 29.222, 29.1954, 29.1924, 28.8914, 28.8368, 28.7936, 28.7392, 28.5988, 28.3788, 28.3546, 28.2908, 28.0314, 27.6876, 27.6072, 27.592, 27.3346, 27.2884, 26.7808, 26.7246, 26.2154, 26.191, 26.0534, 25.9766, 25.6538, 25.603, 25.5674, 25.5118, 25.3068, 25.2126, 25.1718, 25.1486, 25.0984, 25.0378, 25.0368, 24.8246, 24.7528, 24.7506, 24.721, 24.6288, 24.501, 24.4588, 24.4344, 24.377, 24.0266, 24.009, 23.839, 23.7756, 23.7454, 23.6268, 23.602, 23.5666, 23.4192, 23.3816, 23.372, 23.0558, 23.0552, 22.9222, 22.8708, 22.854, 22.8096, 22.7936, 22.777, 22.5082, 22.3408, 22.2098, 22.1668, 22.0828, 22.016, 21.8486, 21.6774, 21.6488, 21.6342, 21.56, 21.5508, 21.5428, 21.5156, 21.5106, 21.4996, 21.4682, 21.4012, 21.315, 21.2508, 21.2376, 21.1604, 21.1068, 21.0808, 21.0506, 20.8778, 20.82, 20.8006, 20.7858, 20.7846, 20.7186, 20.676, 20.591, 20.528, 20.4958, 20.3768, 20.3352, 20.2862, 20.2698, 20.2024, 20.1704, 20.1666, 20.1074, 20.0186, 20.0064, 19.9668, 19.905, 19.8176, 19.7338, 19.6596, 19.6566, 19.6024, 19.4848, 19.4828, 19.4652, 19.4022, 19.362, 19.292, 19.263, 19.1406, 19.0336, 19.0158, 18.9596, 18.9302, 18.8636, 18.8566, 18.8418, 18.8348, 18.8294, 18.819, 18.806, 18.6712, 18.6504, 18.5574, 18.5102, 18.388, 18.384, 18.3478, 18.2836, 18.2812, 18.2392, 18.202, 18.1556, 18.1498], \"sizemode\": \"area\"}, \"name\": \"50 - 300\", \"text\": [\"New Orleans <br>Population 0.360877 million\", \"Bakersfield <br>Population 0.353533 million\", \"Tampa <br>Population 0.346934 million\", \"Anaheim <br>Population 0.34083 million\", \"Santa Ana <br>Population 0.328856 million\", \"St. Louis <br>Population 0.319188 million\", \"Riverside <br>Population 0.310025 million\", \"Corpus Christi <br>Population 0.308069 million\", \"Pittsburgh <br>Population 0.306099 million\", \"Lexington-Fayette urban county<br>Population 0.301213 million\", \"Cincinnati <br>Population 0.296114 million\", \"Stockton <br>Population 0.295386 million\", \"St. Paul <br>Population 0.288884 million\", \"Toledo <br>Population 0.285549 million\", \"Newark <br>Population 0.277854 million\", \"Greensboro <br>Population 0.272521 million\", \"Plano <br>Population 0.26762 million\", \"Lincoln <br>Population 0.262389 million\", \"Buffalo <br>Population 0.260525 million\", \"Henderson <br>Population 0.259958 million\", \"Fort Wayne <br>Population 0.254607 million\", \"Jersey City <br>Population 0.253117 million\", \"Chula Vista <br>Population 0.248684 million\", \"St. Petersburg <br>Population 0.246042 million\", \"Orlando <br>Population 0.243787 million\", \"Laredo <br>Population 0.241188 million\", \"Chandler <br>Population 0.239977 million\", \"Madison <br>Population 0.236923 million\", \"Lubbock <br>Population 0.233586 million\", \"Winston-Salem <br>Population 0.231873 million\", \"Hialeah <br>Population 0.231352 million\", \"Garland <br>Population 0.230205 million\", \"Baton Rouge <br>Population 0.228939 million\", \"Glendale <br>Population 0.228645 million\", \"Chesapeake <br>Population 0.225333 million\", \"Irvine <br>Population 0.220528 million\", \"Irving <br>Population 0.220012 million\", \"Scottsdale <br>Population 0.219841 million\", \"North Las Vegas <br>Population 0.218971 million\", \"Fremont <br>Population 0.21763 million\", \"Gilbert <br>Population 0.214057 million\", \"San Bernardino <br>Population 0.212061 million\", \"Rochester <br>Population 0.210891 million\", \"Boise City <br>Population 0.20928 million\", \"Spokane <br>Population 0.209025 million\", \"Montgomery <br>Population 0.207513 million\", \"Richmond <br>Population 0.206977 million\", \"Des Moines <br>Population 0.205908 million\", \"Modesto <br>Population 0.204312 million\", \"Shreveport <br>Population 0.201875 million\", \"Fayetteville <br>Population 0.201485 million\", \"Oxnard <br>Population 0.20008 million\", \"Tacoma <br>Population 0.199882 million\", \"Fontana <br>Population 0.199879 million\", \"Akron <br>Population 0.198909 million\", \"Yonkers <br>Population 0.197772 million\", \"Moreno Valley <br>Population 0.19697 million\", \"Little Rock <br>Population 0.195279 million\", \"Columbus <br>Population 0.195272 million\", \"Mobile <br>Population 0.194806 million\", \"Amarillo <br>Population 0.193907 million\", \"Huntington Beach <br>Population 0.193366 million\", \"Glendale <br>Population 0.193214 million\", \"Grand Rapids <br>Population 0.189054 million\", \"Salt Lake City <br>Population 0.188158 million\", \"Tallahassee <br>Population 0.183442 million\", \"Huntsville <br>Population 0.182219 million\", \"Knoxville <br>Population 0.180606 million\", \"Newport News <br>Population 0.180356 million\", \"Grand Prairie <br>Population 0.178811 million\", \"Brownsville <br>Population 0.178551 million\", \"Providence <br>Population 0.178375 million\", \"Santa Clarita <br>Population 0.177843 million\", \"Overland Park <br>Population 0.176068 million\", \"Jackson <br>Population 0.175448 million\", \"Garden Grove <br>Population 0.173281 million\", \"Chattanooga <br>Population 0.170486 million\", \"Oceanside <br>Population 0.169795 million\", \"Fort Lauderdale <br>Population 0.169045 million\", \"Rancho Cucamonga <br>Population 0.16821 million\", \"Port St. Lucie <br>Population 0.167112 million\", \"Tempe <br>Population 0.16373 million\", \"Springfield <br>Population 0.160408 million\", \"Lancaster <br>Population 0.158474 million\", \"Cape Coral <br>Population 0.15768 million\", \"Pembroke Pines <br>Population 0.157568 million\", \"Eugene <br>Population 0.157237 million\", \"Sioux Falls <br>Population 0.156757 million\", \"Peoria <br>Population 0.156708 million\", \"Salem <br>Population 0.156248 million\", \"Elk Grove <br>Population 0.155844 million\", \"Macon-Bibb County<br>Population 0.155632 million\", \"Corona <br>Population 0.155005 million\", \"Palmdale <br>Population 0.15444 million\", \"Springfield <br>Population 0.153798 million\", \"Salinas <br>Population 0.152667 million\", \"Rockford <br>Population 0.15193 million\", \"Pasadena <br>Population 0.151308 million\", \"Pomona <br>Population 0.150065 million\", \"Joliet <br>Population 0.147895 million\", \"Hayward <br>Population 0.14703 million\", \"Torrance <br>Population 0.146461 million\", \"Kansas City <br>Population 0.146281 million\", \"Escondido <br>Population 0.146247 million\", \"Bridgeport <br>Population 0.14611 million\", \"Fort Collins <br>Population 0.145977 million\", \"Paterson <br>Population 0.145962 million\", \"Syracuse <br>Population 0.144457 million\", \"Lakewood <br>Population 0.144184 million\", \"Sunnyvale <br>Population 0.143968 million\", \"Hollywood <br>Population 0.143696 million\", \"Naperville <br>Population 0.142994 million\", \"Dayton <br>Population 0.141894 million\", \"Cary <br>Population 0.141773 million\", \"Mesquite <br>Population 0.141454 million\", \"Savannah <br>Population 0.140157 million\", \"Orange <br>Population 0.138438 million\", \"Pasadena <br>Population 0.138036 million\", \"McKinney <br>Population 0.13796 million\", \"Fullerton <br>Population 0.136673 million\", \"Clarksville <br>Population 0.136442 million\", \"Warren <br>Population 0.133904 million\", \"McAllen <br>Population 0.133623 million\", \"West Valley City <br>Population 0.131077 million\", \"New Haven <br>Population 0.130955 million\", \"Bellevue <br>Population 0.130267 million\", \"Sterling Heights <br>Population 0.129883 million\", \"Olathe <br>Population 0.128269 million\", \"Topeka <br>Population 0.128015 million\", \"Cedar Rapids <br>Population 0.127837 million\", \"Thousand Oaks <br>Population 0.127559 million\", \"Waco <br>Population 0.126534 million\", \"Elizabeth <br>Population 0.126063 million\", \"Visalia <br>Population 0.125859 million\", \"Gainesville <br>Population 0.125743 million\", \"Hartford <br>Population 0.125492 million\", \"Miramar <br>Population 0.125189 million\", \"Simi Valley <br>Population 0.125184 million\", \"Stamford <br>Population 0.124123 million\", \"Concord <br>Population 0.123764 million\", \"Coral Springs <br>Population 0.123753 million\", \"Frisco <br>Population 0.123605 million\", \"Charleston <br>Population 0.123144 million\", \"Carrollton <br>Population 0.122505 million\", \"Roseville <br>Population 0.122294 million\", \"Lafayette <br>Population 0.122172 million\", \"Thornton <br>Population 0.121885 million\", \"Evansville <br>Population 0.120133 million\", \"Denton <br>Population 0.120045 million\", \"Surprise <br>Population 0.119195 million\", \"Allen <br>Population 0.118878 million\", \"Abilene <br>Population 0.118727 million\", \"Victorville <br>Population 0.118134 million\", \"Santa Clara <br>Population 0.11801 million\", \"Beaumont <br>Population 0.117833 million\", \"Springfield <br>Population 0.117096 million\", \"Vallejo <br>Population 0.116908 million\", \"Independence <br>Population 0.11686 million\", \"Peoria <br>Population 0.115279 million\", \"Ann Arbor <br>Population 0.115276 million\", \"Provo <br>Population 0.114611 million\", \"El Monte <br>Population 0.114354 million\", \"Lansing <br>Population 0.11427 million\", \"Berkeley <br>Population 0.114048 million\", \"Norman <br>Population 0.113968 million\", \"Midland <br>Population 0.113885 million\", \"Downey <br>Population 0.112541 million\", \"Murfreesboro <br>Population 0.111704 million\", \"Costa Mesa <br>Population 0.111049 million\", \"Inglewood <br>Population 0.110834 million\", \"Miami Gardens <br>Population 0.110414 million\", \"Waterbury <br>Population 0.11008 million\", \"Elgin <br>Population 0.109243 million\", \"Clearwater <br>Population 0.108387 million\", \"Wilmington <br>Population 0.108244 million\", \"Rochester <br>Population 0.108171 million\", \"San Buenaventura (Ventura) <br>Population 0.1078 million\", \"Carlsbad <br>Population 0.107754 million\", \"Fargo <br>Population 0.107714 million\", \"Arvada <br>Population 0.107578 million\", \"Lowell <br>Population 0.107553 million\", \"Gresham <br>Population 0.107498 million\", \"Pueblo <br>Population 0.107341 million\", \"West Covina <br>Population 0.107006 million\", \"West Jordan <br>Population 0.106575 million\", \"Fairfield <br>Population 0.106254 million\", \"Norwalk <br>Population 0.106188 million\", \"High Point <br>Population 0.105802 million\", \"Billings <br>Population 0.105534 million\", \"Richmond <br>Population 0.105404 million\", \"Murrieta <br>Population 0.105253 million\", \"Green Bay <br>Population 0.104389 million\", \"Wichita Falls <br>Population 0.1041 million\", \"Burbank <br>Population 0.104003 million\", \"Round Rock <br>Population 0.103929 million\", \"Antioch <br>Population 0.103923 million\", \"Everett <br>Population 0.103593 million\", \"Palm Bay <br>Population 0.10338 million\", \"Temecula <br>Population 0.102955 million\", \"Daly City <br>Population 0.10264 million\", \"Centennial <br>Population 0.102479 million\", \"Pompano Beach <br>Population 0.101884 million\", \"Richardson <br>Population 0.101676 million\", \"Erie <br>Population 0.101431 million\", \"West Palm Beach <br>Population 0.101349 million\", \"South Bend <br>Population 0.101012 million\", \"Boulder <br>Population 0.100852 million\", \"El Cajon <br>Population 0.100833 million\", \"Davenport <br>Population 0.100537 million\", \"Broken Arrow <br>Population 0.100093 million\", \"Las Cruces <br>Population 0.100032 million\", \"North Charleston <br>Population 0.099834 million\", \"Kenosha <br>Population 0.099525 million\", \"Lakeland <br>Population 0.099088 million\", \"San Mateo <br>Population 0.098669 million\", \"Tyler <br>Population 0.098298 million\", \"Lawton <br>Population 0.098283 million\", \"Albany <br>Population 0.098012 million\", \"Lewisville <br>Population 0.097424 million\", \"Clovis <br>Population 0.097414 million\", \"Dearborn <br>Population 0.097326 million\", \"Sandy Springs <br>Population 0.097011 million\", \"Roanoke <br>Population 0.09681 million\", \"Jurupa Valley <br>Population 0.09646 million\", \"Livonia <br>Population 0.096315 million\", \"College Station <br>Population 0.095703 million\", \"Vista <br>Population 0.095168 million\", \"South Gate <br>Population 0.095079 million\", \"New Bedford <br>Population 0.094798 million\", \"San Angelo <br>Population 0.094651 million\", \"Greeley <br>Population 0.094318 million\", \"Davie <br>Population 0.094283 million\", \"Mission Viejo <br>Population 0.094209 million\", \"Yuma <br>Population 0.094174 million\", \"Brockton <br>Population 0.094147 million\", \"Hillsboro <br>Population 0.094095 million\", \"Renton <br>Population 0.09403 million\", \"Vacaville <br>Population 0.093356 million\", \"Pearland <br>Population 0.093252 million\", \"Yakima <br>Population 0.092787 million\", \"Quincy <br>Population 0.092551 million\", \"Carson <br>Population 0.09194 million\", \"Lee's Summit <br>Population 0.09192 million\", \"Tuscaloosa <br>Population 0.091739 million\", \"Hesperia <br>Population 0.091418 million\", \"Beaverton <br>Population 0.091406 million\", \"Roswell <br>Population 0.091196 million\", \"Sparks <br>Population 0.09101 million\", \"Lynn <br>Population 0.090778 million\", \"Santa Monica <br>Population 0.090749 million\"], \"type\": \"scattergeo\"}],                        {\"geo\": {\"landcolor\": \"rgb(217, 217, 217)\", \"scope\": \"usa\"}, \"showlegend\": true, \"template\": {\"data\": {\"bar\": [{\"error_x\": {\"color\": \"#2a3f5f\"}, \"error_y\": {\"color\": \"#2a3f5f\"}, \"marker\": {\"line\": {\"color\": \"#E5ECF6\", \"width\": 0.5}}, \"type\": \"bar\"}], \"barpolar\": [{\"marker\": {\"line\": {\"color\": \"#E5ECF6\", \"width\": 0.5}}, \"type\": \"barpolar\"}], \"carpet\": [{\"aaxis\": {\"endlinecolor\": \"#2a3f5f\", \"gridcolor\": \"white\", \"linecolor\": \"white\", \"minorgridcolor\": \"white\", \"startlinecolor\": \"#2a3f5f\"}, \"baxis\": {\"endlinecolor\": \"#2a3f5f\", \"gridcolor\": \"white\", \"linecolor\": \"white\", \"minorgridcolor\": \"white\", \"startlinecolor\": \"#2a3f5f\"}, \"type\": \"carpet\"}], \"choropleth\": [{\"colorbar\": {\"outlinewidth\": 0, \"ticks\": \"\"}, \"type\": \"choropleth\"}], \"contour\": [{\"colorbar\": {\"outlinewidth\": 0, \"ticks\": \"\"}, \"colorscale\": [[0.0, \"#0d0887\"], [0.1111111111111111, \"#46039f\"], [0.2222222222222222, \"#7201a8\"], [0.3333333333333333, \"#9c179e\"], [0.4444444444444444, \"#bd3786\"], [0.5555555555555556, \"#d8576b\"], [0.6666666666666666, \"#ed7953\"], [0.7777777777777778, \"#fb9f3a\"], [0.8888888888888888, \"#fdca26\"], [1.0, \"#f0f921\"]], \"type\": \"contour\"}], \"contourcarpet\": [{\"colorbar\": {\"outlinewidth\": 0, \"ticks\": \"\"}, \"type\": \"contourcarpet\"}], \"heatmap\": [{\"colorbar\": {\"outlinewidth\": 0, \"ticks\": \"\"}, \"colorscale\": [[0.0, \"#0d0887\"], [0.1111111111111111, \"#46039f\"], [0.2222222222222222, \"#7201a8\"], [0.3333333333333333, \"#9c179e\"], [0.4444444444444444, \"#bd3786\"], [0.5555555555555556, \"#d8576b\"], [0.6666666666666666, \"#ed7953\"], [0.7777777777777778, \"#fb9f3a\"], [0.8888888888888888, \"#fdca26\"], [1.0, \"#f0f921\"]], \"type\": \"heatmap\"}], \"heatmapgl\": [{\"colorbar\": {\"outlinewidth\": 0, \"ticks\": \"\"}, \"colorscale\": [[0.0, \"#0d0887\"], [0.1111111111111111, \"#46039f\"], [0.2222222222222222, \"#7201a8\"], [0.3333333333333333, \"#9c179e\"], [0.4444444444444444, \"#bd3786\"], [0.5555555555555556, \"#d8576b\"], [0.6666666666666666, \"#ed7953\"], [0.7777777777777778, \"#fb9f3a\"], [0.8888888888888888, \"#fdca26\"], [1.0, \"#f0f921\"]], \"type\": \"heatmapgl\"}], \"histogram\": [{\"marker\": {\"colorbar\": {\"outlinewidth\": 0, \"ticks\": \"\"}}, \"type\": \"histogram\"}], \"histogram2d\": [{\"colorbar\": {\"outlinewidth\": 0, \"ticks\": \"\"}, \"colorscale\": [[0.0, \"#0d0887\"], [0.1111111111111111, \"#46039f\"], [0.2222222222222222, \"#7201a8\"], [0.3333333333333333, \"#9c179e\"], [0.4444444444444444, \"#bd3786\"], [0.5555555555555556, \"#d8576b\"], [0.6666666666666666, \"#ed7953\"], [0.7777777777777778, \"#fb9f3a\"], [0.8888888888888888, \"#fdca26\"], [1.0, \"#f0f921\"]], \"type\": \"histogram2d\"}], \"histogram2dcontour\": [{\"colorbar\": {\"outlinewidth\": 0, \"ticks\": \"\"}, \"colorscale\": [[0.0, \"#0d0887\"], [0.1111111111111111, \"#46039f\"], [0.2222222222222222, \"#7201a8\"], [0.3333333333333333, \"#9c179e\"], [0.4444444444444444, \"#bd3786\"], [0.5555555555555556, \"#d8576b\"], [0.6666666666666666, \"#ed7953\"], [0.7777777777777778, \"#fb9f3a\"], [0.8888888888888888, \"#fdca26\"], [1.0, \"#f0f921\"]], \"type\": \"histogram2dcontour\"}], \"mesh3d\": [{\"colorbar\": {\"outlinewidth\": 0, \"ticks\": \"\"}, \"type\": \"mesh3d\"}], \"parcoords\": [{\"line\": {\"colorbar\": {\"outlinewidth\": 0, \"ticks\": \"\"}}, \"type\": \"parcoords\"}], \"pie\": [{\"automargin\": true, \"type\": \"pie\"}], \"scatter\": [{\"marker\": {\"colorbar\": {\"outlinewidth\": 0, \"ticks\": \"\"}}, \"type\": \"scatter\"}], \"scatter3d\": [{\"line\": {\"colorbar\": {\"outlinewidth\": 0, \"ticks\": \"\"}}, \"marker\": {\"colorbar\": {\"outlinewidth\": 0, \"ticks\": \"\"}}, \"type\": \"scatter3d\"}], \"scattercarpet\": [{\"marker\": {\"colorbar\": {\"outlinewidth\": 0, \"ticks\": \"\"}}, \"type\": \"scattercarpet\"}], \"scattergeo\": [{\"marker\": {\"colorbar\": {\"outlinewidth\": 0, \"ticks\": \"\"}}, \"type\": \"scattergeo\"}], \"scattergl\": [{\"marker\": {\"colorbar\": {\"outlinewidth\": 0, \"ticks\": \"\"}}, \"type\": \"scattergl\"}], \"scattermapbox\": [{\"marker\": {\"colorbar\": {\"outlinewidth\": 0, \"ticks\": \"\"}}, \"type\": \"scattermapbox\"}], \"scatterpolar\": [{\"marker\": {\"colorbar\": {\"outlinewidth\": 0, \"ticks\": \"\"}}, \"type\": \"scatterpolar\"}], \"scatterpolargl\": [{\"marker\": {\"colorbar\": {\"outlinewidth\": 0, \"ticks\": \"\"}}, \"type\": \"scatterpolargl\"}], \"scatterternary\": [{\"marker\": {\"colorbar\": {\"outlinewidth\": 0, \"ticks\": \"\"}}, \"type\": \"scatterternary\"}], \"surface\": [{\"colorbar\": {\"outlinewidth\": 0, \"ticks\": \"\"}, \"colorscale\": [[0.0, \"#0d0887\"], [0.1111111111111111, \"#46039f\"], [0.2222222222222222, \"#7201a8\"], [0.3333333333333333, \"#9c179e\"], [0.4444444444444444, \"#bd3786\"], [0.5555555555555556, \"#d8576b\"], [0.6666666666666666, \"#ed7953\"], [0.7777777777777778, \"#fb9f3a\"], [0.8888888888888888, \"#fdca26\"], [1.0, \"#f0f921\"]], \"type\": \"surface\"}], \"table\": [{\"cells\": {\"fill\": {\"color\": \"#EBF0F8\"}, \"line\": {\"color\": \"white\"}}, \"header\": {\"fill\": {\"color\": \"#C8D4E3\"}, \"line\": {\"color\": \"white\"}}, \"type\": \"table\"}]}, \"layout\": {\"annotationdefaults\": {\"arrowcolor\": \"#2a3f5f\", \"arrowhead\": 0, \"arrowwidth\": 1}, \"coloraxis\": {\"colorbar\": {\"outlinewidth\": 0, \"ticks\": \"\"}}, \"colorscale\": {\"diverging\": [[0, \"#8e0152\"], [0.1, \"#c51b7d\"], [0.2, \"#de77ae\"], [0.3, \"#f1b6da\"], [0.4, \"#fde0ef\"], [0.5, \"#f7f7f7\"], [0.6, \"#e6f5d0\"], [0.7, \"#b8e186\"], [0.8, \"#7fbc41\"], [0.9, \"#4d9221\"], [1, \"#276419\"]], \"sequential\": [[0.0, \"#0d0887\"], [0.1111111111111111, \"#46039f\"], [0.2222222222222222, \"#7201a8\"], [0.3333333333333333, \"#9c179e\"], [0.4444444444444444, \"#bd3786\"], [0.5555555555555556, \"#d8576b\"], [0.6666666666666666, \"#ed7953\"], [0.7777777777777778, \"#fb9f3a\"], [0.8888888888888888, \"#fdca26\"], [1.0, \"#f0f921\"]], \"sequentialminus\": [[0.0, \"#0d0887\"], [0.1111111111111111, \"#46039f\"], [0.2222222222222222, \"#7201a8\"], [0.3333333333333333, \"#9c179e\"], [0.4444444444444444, \"#bd3786\"], [0.5555555555555556, \"#d8576b\"], [0.6666666666666666, \"#ed7953\"], [0.7777777777777778, \"#fb9f3a\"], [0.8888888888888888, \"#fdca26\"], [1.0, \"#f0f921\"]]}, \"colorway\": [\"#636efa\", \"#EF553B\", \"#00cc96\", \"#ab63fa\", \"#FFA15A\", \"#19d3f3\", \"#FF6692\", \"#B6E880\", \"#FF97FF\", \"#FECB52\"], \"font\": {\"color\": \"#2a3f5f\"}, \"geo\": {\"bgcolor\": \"white\", \"lakecolor\": \"white\", \"landcolor\": \"#E5ECF6\", \"showlakes\": true, \"showland\": true, \"subunitcolor\": \"white\"}, \"hoverlabel\": {\"align\": \"left\"}, \"hovermode\": \"closest\", \"mapbox\": {\"style\": \"light\"}, \"paper_bgcolor\": \"white\", \"plot_bgcolor\": \"#E5ECF6\", \"polar\": {\"angularaxis\": {\"gridcolor\": \"white\", \"linecolor\": \"white\", \"ticks\": \"\"}, \"bgcolor\": \"#E5ECF6\", \"radialaxis\": {\"gridcolor\": \"white\", \"linecolor\": \"white\", \"ticks\": \"\"}}, \"scene\": {\"xaxis\": {\"backgroundcolor\": \"#E5ECF6\", \"gridcolor\": \"white\", \"gridwidth\": 2, \"linecolor\": \"white\", \"showbackground\": true, \"ticks\": \"\", \"zerolinecolor\": \"white\"}, \"yaxis\": {\"backgroundcolor\": \"#E5ECF6\", \"gridcolor\": \"white\", \"gridwidth\": 2, \"linecolor\": \"white\", \"showbackground\": true, \"ticks\": \"\", \"zerolinecolor\": \"white\"}, \"zaxis\": {\"backgroundcolor\": \"#E5ECF6\", \"gridcolor\": \"white\", \"gridwidth\": 2, \"linecolor\": \"white\", \"showbackground\": true, \"ticks\": \"\", \"zerolinecolor\": \"white\"}}, \"shapedefaults\": {\"line\": {\"color\": \"#2a3f5f\"}}, \"ternary\": {\"aaxis\": {\"gridcolor\": \"white\", \"linecolor\": \"white\", \"ticks\": \"\"}, \"baxis\": {\"gridcolor\": \"white\", \"linecolor\": \"white\", \"ticks\": \"\"}, \"bgcolor\": \"#E5ECF6\", \"caxis\": {\"gridcolor\": \"white\", \"linecolor\": \"white\", \"ticks\": \"\"}}, \"title\": {\"x\": 0.05}, \"xaxis\": {\"automargin\": true, \"gridcolor\": \"white\", \"linecolor\": \"white\", \"ticks\": \"\", \"title\": {\"standoff\": 15}, \"zerolinecolor\": \"white\", \"zerolinewidth\": 2}, \"yaxis\": {\"automargin\": true, \"gridcolor\": \"white\", \"linecolor\": \"white\", \"ticks\": \"\", \"title\": {\"standoff\": 15}, \"zerolinecolor\": \"white\", \"zerolinewidth\": 2}}}, \"title\": {\"text\": \"2014 US city populations<br>(Click legend to toggle traces)\"}},                        {\"responsive\": true}                    ).then(function(){\n",
       "                            \n",
       "var gd = document.getElementById('1ca9d253-b62b-41f5-93d2-8bf19fe5106f');\n",
       "var x = new MutationObserver(function (mutations, observer) {{\n",
       "        var display = window.getComputedStyle(gd).display;\n",
       "        if (!display || display === 'none') {{\n",
       "            console.log([gd, 'removed!']);\n",
       "            Plotly.purge(gd);\n",
       "            observer.disconnect();\n",
       "        }}\n",
       "}});\n",
       "\n",
       "// Listen for the removal of the full notebook cells\n",
       "var notebookContainer = gd.closest('#notebook-container');\n",
       "if (notebookContainer) {{\n",
       "    x.observe(notebookContainer, {childList: true});\n",
       "}}\n",
       "\n",
       "// Listen for the clearing of the current output cell\n",
       "var outputEl = gd.closest('.output');\n",
       "if (outputEl) {{\n",
       "    x.observe(outputEl, {childList: true});\n",
       "}}\n",
       "\n",
       "                        })                };                });            </script>        </div>"
      ]
     },
     "metadata": {},
     "output_type": "display_data"
    }
   ],
   "source": [
    "limits = [(0, 2), (3, 10), (11, 20), (21, 50), (50, 300)]\n",
    "colors = [\"royalblue\",\"crimson\",\"lightseagreen\",\"orange\",\"lightgrey\"]\n",
    "cities = []\n",
    "scale = 5000\n",
    "fig = go.Figure()\n",
    "\n",
    "for i in range(len(limits)):\n",
    "    lim = limits[i]\n",
    "    df_sub = df[lim[0]:lim[1]]\n",
    "    fig.add_trace(go.Scattergeo(\n",
    "        locationmode='USA-states',\n",
    "        lon = df_sub['lon'],\n",
    "        lat = df_sub['lat'],\n",
    "        text = df_sub['text'],\n",
    "        marker = dict(\n",
    "            size = df_sub['pop']/scale,\n",
    "            color = colors[i],\n",
    "            line_color='rgb(40,40,40)',\n",
    "            line_width=0.5,\n",
    "            sizemode = 'area'\n",
    "        ),\n",
    "        name = '{0} - {1}'.format(lim[0],lim[1])))\n",
    "\n",
    "fig.update_layout(\n",
    "        title_text = '2014 US city populations<br>(Click legend to toggle traces)',\n",
    "        showlegend = True,\n",
    "        geo = dict(\n",
    "            scope = 'usa',\n",
    "            landcolor = 'rgb(217, 217, 217)',\n",
    "        )\n",
    "    )\n",
    "\n",
    "fig.show()"
   ]
  },
  {
   "cell_type": "code",
   "execution_count": null,
   "metadata": {},
   "outputs": [],
   "source": []
  }
 ],
 "metadata": {
  "kernelspec": {
   "display_name": "Python 3",
   "language": "python",
   "name": "python3"
  },
  "language_info": {
   "codemirror_mode": {
    "name": "ipython",
    "version": 3
   },
   "file_extension": ".py",
   "mimetype": "text/x-python",
   "name": "python",
   "nbconvert_exporter": "python",
   "pygments_lexer": "ipython3",
   "version": "3.7.8"
  }
 },
 "nbformat": 4,
 "nbformat_minor": 4
}
